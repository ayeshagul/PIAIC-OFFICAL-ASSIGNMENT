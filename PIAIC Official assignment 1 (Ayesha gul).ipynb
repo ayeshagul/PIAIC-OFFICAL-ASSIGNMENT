{
 "cells": [
  {
   "cell_type": "markdown",
   "metadata": {},
   "source": [
    "# Student Name: \"Ayesha Gul\"\n",
    "## Student ID: AIC031243\n",
    "## Assignment: PIAIC Official Assignment\n",
    "## Faculty : \"Sir Nasir Hussain\"\n",
    "## Location :\" Sindh Boys Scout Assoication\"                                  ##Timing: (9:00am-12:00am)"
   ]
  },
  {
   "cell_type": "markdown",
   "metadata": {},
   "source": [
    "# 1. Calculate Area of a Circle"
   ]
  },
  {
   "cell_type": "markdown",
   "metadata": {},
   "source": [
    "#### Write a Python program which accepts the radius of a circle from the user and compute the area."
   ]
  },
  {
   "cell_type": "code",
   "execution_count": 2,
   "metadata": {},
   "outputs": [
    {
     "name": "stdout",
     "output_type": "stream",
     "text": [
      "Enter the Radius of the Circle: 0.5\n",
      "Area of the Circle is: 0.79\n"
     ]
    }
   ],
   "source": [
    "import math\n",
    "radius = float(input(\"Enter the Radius of the Circle: \"))\n",
    "area = math.pi * (radius**2)\n",
    "area = round(area,2)\n",
    "print(\"Area of the Circle is: \"+str(area))\n"
   ]
  },
  {
   "cell_type": "markdown",
   "metadata": {},
   "source": [
    "## 2. Check Number either positive, negative or zero"
   ]
  },
  {
   "cell_type": "markdown",
   "metadata": {},
   "source": [
    "#### Write a Python program to check if a number is positive, negative or zero"
   ]
  },
  {
   "cell_type": "code",
   "execution_count": 3,
   "metadata": {},
   "outputs": [
    {
     "name": "stdout",
     "output_type": "stream",
     "text": [
      "Enter any Number: 5\n",
      "Number is Positive\n"
     ]
    }
   ],
   "source": [
    "number = float(input(\"Enter any Number: \"))\n",
    "if number > 0:\n",
    "    print(\"Number is Positive\")\n",
    "elif number < 0:\n",
    "    print(\"Number is Negative\")\n",
    "else:\n",
    "    print(\"Number is Zero\")"
   ]
  },
  {
   "cell_type": "code",
   "execution_count": 4,
   "metadata": {},
   "outputs": [
    {
     "name": "stdout",
     "output_type": "stream",
     "text": [
      "Enter any Number: -3\n",
      "Number is Negative\n"
     ]
    }
   ],
   "source": [
    "number = float(input(\"Enter any Number: \"))\n",
    "if number > 0:\n",
    "    print(\"Number is Positive\")\n",
    "elif number < 0:\n",
    "    print(\"Number is Negative\")\n",
    "else:\n",
    "    print(\"Number is Zero\")"
   ]
  },
  {
   "cell_type": "code",
   "execution_count": 5,
   "metadata": {},
   "outputs": [
    {
     "name": "stdout",
     "output_type": "stream",
     "text": [
      "Enter any Number: 0\n",
      "Number is Zero\n"
     ]
    }
   ],
   "source": [
    "number = float(input(\"Enter any Number: \"))\n",
    "if number > 0:\n",
    "    print(\"Number is Positive\")\n",
    "elif number < 0:\n",
    "    print(\"Number is Negative\")\n",
    "else:\n",
    "    print(\"Number is Zero\")"
   ]
  },
  {
   "cell_type": "markdown",
   "metadata": {},
   "source": [
    "## 3. Divisibility Check of two numbers"
   ]
  },
  {
   "cell_type": "markdown",
   "metadata": {},
   "source": [
    "#### Write a Python program to check whether a number is completely divisible by another number. "
   ]
  },
  {
   "cell_type": "code",
   "execution_count": 6,
   "metadata": {},
   "outputs": [
    {
     "name": "stdout",
     "output_type": "stream",
     "text": [
      "Enter the Numerator Number: 4\n",
      "Enter the Denominator Number: 7\n",
      "--------------------------------------------------------\n",
      "4.0 Number is not Divisible by Number 7.0\n"
     ]
    }
   ],
   "source": [
    "number1 = float(input(\"Enter the Numerator Number: \"))\n",
    "number2 = float(input(\"Enter the Denominator Number: \"))\n",
    "print(\"--------------------------------------------------------\")\n",
    "if number1 % number2 == 0:\n",
    "    print(f\"{number1} Number is completely Divisible by Number {number2}\")\n",
    "else:\n",
    "    print(f\"{number1} Number is not Divisible by Number {number2}\")"
   ]
  },
  {
   "cell_type": "code",
   "execution_count": 7,
   "metadata": {},
   "outputs": [
    {
     "name": "stdout",
     "output_type": "stream",
     "text": [
      "Enter the Numerator Number: 7\n",
      "Enter the Denominator Number: 4\n",
      "--------------------------------------------------------\n",
      "7.0 Number is not Divisible by Number 4.0\n"
     ]
    }
   ],
   "source": [
    "number1 = float(input(\"Enter the Numerator Number: \"))\n",
    "number2 = float(input(\"Enter the Denominator Number: \"))\n",
    "print(\"--------------------------------------------------------\")\n",
    "if number1 % number2 == 0:\n",
    "    print(f\"{number1} Number is completely Divisible by Number {number2}\")\n",
    "else:\n",
    "    print(f\"{number1} Number is not Divisible by Number {number2}\")"
   ]
  },
  {
   "cell_type": "markdown",
   "metadata": {},
   "source": [
    "## 4. Calculate Volume of a sphere"
   ]
  },
  {
   "cell_type": "markdown",
   "metadata": {},
   "source": [
    "##### Write a Python program to get the volume of a sphere, please take the radius as input from user"
   ]
  },
  {
   "cell_type": "code",
   "execution_count": 8,
   "metadata": {},
   "outputs": [
    {
     "name": "stdout",
     "output_type": "stream",
     "text": [
      "Enter the Radius of the Sphere: 1\n",
      "Volume of the Sphere is: 4.19\n"
     ]
    }
   ],
   "source": [
    "import math\n",
    "radius = float(input(\"Enter the Radius of the Sphere: \"))\n",
    "volume = (4 / 3) * math.pi * (radius**3)\n",
    "volume = round(volume,2)\n",
    "print(\"Volume of the Sphere is: \"+str(volume))"
   ]
  },
  {
   "cell_type": "markdown",
   "metadata": {},
   "source": [
    "## 5. Copy string n times"
   ]
  },
  {
   "cell_type": "code",
   "execution_count": 9,
   "metadata": {},
   "outputs": [
    {
     "name": "stdout",
     "output_type": "stream",
     "text": [
      "Enter the String: hi\n",
      "Enter the value of n: 4\n",
      "4 Copies of Hi are: hihihihi\n"
     ]
    }
   ],
   "source": [
    "quote = input(\"Enter the String: \")\n",
    "n = int(input(\"Enter the value of n: \"))\n",
    "if n > 0:\n",
    "    print(f\"4 Copies of Hi are: {quote*n}\")\n",
    "else:\n",
    "    print(\"Invalid\")"
   ]
  },
  {
   "cell_type": "markdown",
   "metadata": {},
   "source": [
    "## 6. Check if number is Even or Odd"
   ]
  },
  {
   "cell_type": "code",
   "execution_count": null,
   "metadata": {},
   "outputs": [
    {
     "name": "stdout",
     "output_type": "stream",
     "text": [
      "Enter any Number: 6\n",
      "6.0 is Even\n"
     ]
    }
   ],
   "source": [
    "#for even number\n",
    "number = float(input(\"Enter any Number: \"))\n",
    "if number % 2 == 0:\n",
    "    print(f\"{number} is Even\")\n",
    "else:\n",
    "    print(f\"{number} is Odd\")"
   ]
  },
  {
   "cell_type": "code",
   "execution_count": null,
   "metadata": {},
   "outputs": [
    {
     "name": "stdout",
     "output_type": "stream",
     "text": [
      "Enter any Number: 5\n",
      "5.0 is Odd\n"
     ]
    }
   ],
   "source": [
    "#for odd number\n",
    "number = float(input(\"Enter any Number: \"))\n",
    "if number % 2 == 0:\n",
    "    print(f\"{number} is Even\")\n",
    "else:\n",
    "    print(f\"{number} is Odd\")"
   ]
  },
  {
   "cell_type": "markdown",
   "metadata": {},
   "source": [
    "## 7. Vowel Tester"
   ]
  },
  {
   "cell_type": "code",
   "execution_count": null,
   "metadata": {},
   "outputs": [
    {
     "name": "stdout",
     "output_type": "stream",
     "text": [
      "Enter a Character : A\n",
      "Letter A is vowel\n"
     ]
    }
   ],
   "source": [
    "v=input(\"Enter a Character : \")\n",
    "if v=='a' or v=='e' or v=='i' or v=='o' or v=='u'or v=='A' or v=='E' or v=='I' or v=='O' or v=='U':\n",
    "    print(f'Letter {v} is vowel')\n",
    "else:\n",
    "    print(f'Letter {v} is  not vowel')"
   ]
  },
  {
   "cell_type": "code",
   "execution_count": null,
   "metadata": {},
   "outputs": [
    {
     "name": "stdout",
     "output_type": "stream",
     "text": [
      "Enter a Character : e\n",
      "Letter e is vowel\n"
     ]
    }
   ],
   "source": [
    "v=input(\"Enter a Character : \")\n",
    "if v=='a' or v=='e' or v=='i' or v=='o' or v=='u'or v=='A' or v=='E' or v=='I' or v=='O' or v=='U':\n",
    "    print(f'Letter {v} is vowel')\n",
    "else:\n",
    "    print(f'Letter {v} is  not vowel')"
   ]
  },
  {
   "cell_type": "code",
   "execution_count": null,
   "metadata": {},
   "outputs": [
    {
     "name": "stdout",
     "output_type": "stream",
     "text": [
      "Enter a Character : n\n",
      "Letter n is  not vowel\n"
     ]
    }
   ],
   "source": [
    "v=input(\"Enter a Character : \")\n",
    "if v=='a' or v=='e' or v=='i' or v=='o' or v=='u'or v=='A' or v=='E' or v=='I' or v=='O' or v=='U':\n",
    "    print(f'Letter {v} is vowel')\n",
    "else:\n",
    "    print(f'Letter {v} is  not vowel')"
   ]
  },
  {
   "cell_type": "markdown",
   "metadata": {},
   "source": [
    "## 8. Triangle area\n",
    "### Write a Python program that will accept the base and height of a triangle and compute the area\n",
    "###### Reference:\n",
    "https://www.mathgoodies.com/lessons/vol1/area_triangle"
   ]
  },
  {
   "cell_type": "code",
   "execution_count": null,
   "metadata": {},
   "outputs": [
    {
     "name": "stdout",
     "output_type": "stream",
     "text": [
      "Enter the height : 10\n",
      "Enter the bass : 11\n",
      "Area of triangle with base 10 and height 11 is 55.0\n"
     ]
    }
   ],
   "source": [
    "b=int(input(\"Enter the height : \"))\n",
    "h=int(input(\"Enter the bass : \"))\n",
    "A=(h*b)/2\n",
    "print(f'Area of triangle with base {b} and height {h} is {A}')"
   ]
  },
  {
   "cell_type": "markdown",
   "metadata": {},
   "source": [
    "## 9. Calculate Interest\n",
    "### Write a Python program to compute the future value of a specified principal amount, rate of interest, and a number of years\n",
    "#### Program Console Sample 1:\n",
    "##### Please enter principal amount: 10000\n",
    "###### Please Enter Rate of interest in %: 0.1\n",
    "###### Enter number of years for investment: 5\n",
    "###### After 5 years your principal amount 10000 over an interest rate of 0.1 % will be 16105.1"
   ]
  },
  {
   "cell_type": "code",
   "execution_count": null,
   "metadata": {},
   "outputs": [
    {
     "name": "stdout",
     "output_type": "stream",
     "text": [
      "Please enter principal amount: 10000\n",
      "Please Enter Rate of interest in %: 0.1\n",
      "Enter number of years for investment: 5\n",
      "After 5.0 years your principal amount 10000.0 over an interest rate of 0.1 % will be 15000.0\n"
     ]
    }
   ],
   "source": [
    "amount = float(input('Please enter principal amount: '))\n",
    "rate = float(input('Please Enter Rate of interest in %: '))\n",
    "years = float(input('Enter number of years for investment: '))\n",
    "total = amount * (1 + (rate*years))\n",
    "print(f'After {years} years your principal amount {amount} over an interest rate of {rate} % will be {total}')"
   ]
  },
  {
   "cell_type": "markdown",
   "metadata": {},
   "source": [
    "# 10. Euclidean distance"
   ]
  },
  {
   "cell_type": "code",
   "execution_count": null,
   "metadata": {},
   "outputs": [
    {
     "name": "stdout",
     "output_type": "stream",
     "text": [
      "Enter Co-ordinate for x1: 2\n",
      "Enter Co-ordinate for x2: 4\n",
      "Enter Co-ordinate for y1: 4\n",
      "Enter Co-ordinate for y2: 4\n",
      "Distance between points (2.0, 4.0) and (4.0, 4.0) is 2.0\n"
     ]
    }
   ],
   "source": [
    "import math\n",
    "x1 = float(input('Enter Co-ordinate for x1: '))\n",
    "x2 = float(input('Enter Co-ordinate for x2: '))\n",
    "y1 = float(input('Enter Co-ordinate for y1: '))\n",
    "y2 = float(input('Enter Co-ordinate for y2: '))\n",
    "x = (x2 - x1) * 2\n",
    "y = (y2 - y1) * 2\n",
    "dist = math.sqrt(x+y)\n",
    "\n",
    "print(f'Distance between points {(x1, y1)} and {(x2, y2)} is {dist}')"
   ]
  },
  {
   "cell_type": "markdown",
   "metadata": {},
   "source": [
    "## 11. Feet to Centimeter Converter"
   ]
  },
  {
   "cell_type": "code",
   "execution_count": null,
   "metadata": {},
   "outputs": [
    {
     "name": "stdout",
     "output_type": "stream",
     "text": [
      "Enter your Height in Feet: 5\n",
      "5ft Height in Centimeters: 152.4cm\n"
     ]
    }
   ],
   "source": [
    "feet = int(input(\"Enter your Height in Feet: \"))\n",
    "centimeter = feet * 30.48\n",
    "print(f\"{feet}ft Height in Centimeters: {centimeter}cm\")"
   ]
  },
  {
   "cell_type": "markdown",
   "metadata": {},
   "source": [
    "## 12. BMI Calculator"
   ]
  },
  {
   "cell_type": "code",
   "execution_count": 3,
   "metadata": {},
   "outputs": [
    {
     "name": "stdout",
     "output_type": "stream",
     "text": [
      "Enter the Height in Centimeter: 2.5\n",
      "Enter the Weight in Kilogram: 70\n",
      "---------------------------------------\n",
      "Height in Centimeters: 2.5cm\n",
      "Weight in Kilogram: 70.0kg\n",
      "Body Mass Index is: 112000.0\n",
      "Invalid\n"
     ]
    }
   ],
   "source": [
    "import math\n",
    "height = float(input(\"Enter the Height in Centimeter: \"))\n",
    "weight = float(input(\"Enter the Weight in Kilogram: \"))\n",
    "bmi = (weight / (math.pow(height * 0.01,2)))\n",
    "bmi = round(bmi,2)\n",
    "\n",
    "print(\"---------------------------------------\")\n",
    "print(\"Height in Centimeters: \"+str(height)+\"cm\")\n",
    "print(\"Weight in Kilogram: \"+str(weight)+\"kg\")\n",
    "print(\"Body Mass Index is: \"+str(bmi))\n",
    "\n",
    "if bmi < 15:\n",
    "    print(\"Category: Very severely underweight\")\n",
    "elif bmi <= 16:\n",
    "    print(\"Category: Severely underweight\")\n",
    "elif bmi <= 18.5:\n",
    "    print(\"Category: Underweight\")\n",
    "elif bmi <= 25:\n",
    "    print(\"Category: Normal (healthy weight)\")\n",
    "elif bmi <= 30:\n",
    "    print(\"Category: Overweight\")\n",
    "elif bmi <= 35:\n",
    "    print(\"Category: Moderately obese\")\n",
    "elif bmi <= 40:\n",
    "    print(\"Category: Severely obese\")\n",
    "elif bmi <= 30:\n",
    "    print(\"Category: Very severely obese\")\n",
    "else:\n",
    "    print(\"Invalid\")"
   ]
  },
  {
   "cell_type": "markdown",
   "metadata": {},
   "source": [
    "## 13. Sum of n Positive Integers"
   ]
  },
  {
   "cell_type": "code",
   "execution_count": 2,
   "metadata": {},
   "outputs": [
    {
     "name": "stdout",
     "output_type": "stream",
     "text": [
      "Enter the value of N: 5\n",
      "Sum of N Positive Integer till 5 is 15\n"
     ]
    }
   ],
   "source": [
    "total = 0\n",
    "num = int(input(\"Enter the value of N: \"))\n",
    "for i in range(num+1):\n",
    "    total += i\n",
    "print(f\"Sum of N Positive Integer till {num} is {total}\")"
   ]
  },
  {
   "cell_type": "markdown",
   "metadata": {},
   "source": [
    "##### 14. Digits Sum of a Number"
   ]
  },
  {
   "cell_type": "code",
   "execution_count": 2,
   "metadata": {},
   "outputs": [
    {
     "name": "stdout",
     "output_type": "stream",
     "text": [
      "Enter Integer Value : 5510\n",
      "Sum of the Digits are : 11\n"
     ]
    }
   ],
   "source": [
    "n = input(\"Enter Integer Value : \")\n",
    "sum = 0 \n",
    "for d in n:\n",
    "    sum += int(d)\n",
    "print(\"Sum of the Digits are :\", sum)"
   ]
  }
 ],
 "metadata": {
  "kernelspec": {
   "display_name": "Python 3",
   "language": "python",
   "name": "python3"
  },
  "language_info": {
   "codemirror_mode": {
    "name": "ipython",
    "version": 3
   },
   "file_extension": ".py",
   "mimetype": "text/x-python",
   "name": "python",
   "nbconvert_exporter": "python",
   "pygments_lexer": "ipython3",
   "version": "3.7.3"
  }
 },
 "nbformat": 4,
 "nbformat_minor": 2
}
